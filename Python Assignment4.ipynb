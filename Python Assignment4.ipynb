{
 "cells": [
  {
   "cell_type": "markdown",
   "metadata": {},
   "source": [
    "# Assignment 4\n",
    "\n",
    "\n",
    "\n",
    "__1.1 Write a Python Program(with class concepts) to find the area of the triangle using the below formula.__\n",
    "\n",
    "__area = (s*(s-a)*(s-b)*(s-c)) *** 0.5__\n",
    "\n",
    "__Function to take the length of the sides of triangle from user should be defined in the parent class and function to calculate the area should be defined in subclass.__"
   ]
  },
  {
   "cell_type": "code",
   "execution_count": 1,
   "metadata": {},
   "outputs": [],
   "source": [
    "class Triangle:\n",
    "    def __init__(self):\n",
    "        while True:\n",
    "            self.a = float(input(\"Enter side a: \"))\n",
    "            self.b = float(input(\"Enter side b: \"))\n",
    "            self.c = float(input(\"Enter side c: \"))\n",
    "            if (self.a+self.b > self.c) and (self.b+self.c> self.a) and (self.a+self.c> self.b):\n",
    "                break\n",
    "            else:\n",
    "                print(\"Not a valid triangle\")\n",
    "                continue\n",
    "    "
   ]
  },
  {
   "cell_type": "code",
   "execution_count": 2,
   "metadata": {},
   "outputs": [],
   "source": [
    "class Area(Triangle):\n",
    "        \n",
    "    def area_traingle(self):\n",
    "        s = (self.a + self.b + self.c) / 2\n",
    "        area = (s * (s - self.a) * (s - self.b) * (s - self.c)) ** 0.5\n",
    "        print(f\"Area of traingle is {area:.3f} unit\\u00b2\")\n",
    "        "
   ]
  },
  {
   "cell_type": "code",
   "execution_count": 3,
   "metadata": {},
   "outputs": [
    {
     "name": "stdout",
     "output_type": "stream",
     "text": [
      "Enter side a: 2\n",
      "Enter side b: 4\n",
      "Enter side c: 2\n",
      "Not a valid triangle\n",
      "Enter side a: 12\n",
      "Enter side b: 13\n",
      "Enter side c: 15\n",
      "Area of traingle is 74.833 unit²\n"
     ]
    }
   ],
   "source": [
    "a = Area()\n",
    "a.area_traingle()"
   ]
  },
  {
   "cell_type": "markdown",
   "metadata": {},
   "source": [
    "__1.2 Write a function filter_long_words() that takes a list of words and an integer n and returns the list of words that are longer than n.__"
   ]
  },
  {
   "cell_type": "code",
   "execution_count": 4,
   "metadata": {},
   "outputs": [],
   "source": [
    "def filter_long_words(myList,n):\n",
    "    result=list()\n",
    "    for a in myList:\n",
    "        if len(a)>n:\n",
    "            result.append(a)\n",
    "            \n",
    "    return result\n"
   ]
  },
  {
   "cell_type": "code",
   "execution_count": 5,
   "metadata": {},
   "outputs": [
    {
     "name": "stdout",
     "output_type": "stream",
     "text": [
      "words longer than 4 are: ['science', 'disc', 'html', 'python']\n"
     ]
    }
   ],
   "source": [
    "myList=['science','disc','html','python','pig']\n",
    "print(f'words longer than 4 are: {filter_long_words(myList,3)}')"
   ]
  },
  {
   "cell_type": "markdown",
   "metadata": {},
   "source": [
    "__2.1 Write a Python program using function concept that maps list of words into a list of integers representing the lengths of the corresponding words__\n",
    "\n",
    "__Hint__: If a list [ ab,cde,erty] is passed on to the python function output should come as [2,3,4] Here 2,3 and 4 are the lengths of the words in the list."
   ]
  },
  {
   "cell_type": "code",
   "execution_count": 6,
   "metadata": {},
   "outputs": [],
   "source": [
    "def word_len(words):\n",
    "    return len(words)"
   ]
  },
  {
   "cell_type": "code",
   "execution_count": 7,
   "metadata": {},
   "outputs": [
    {
     "data": {
      "text/plain": [
       "[2, 3, 4]"
      ]
     },
     "execution_count": 7,
     "metadata": {},
     "output_type": "execute_result"
    }
   ],
   "source": [
    "l = ['ab', 'cde', 'erty']\n",
    "list(map(word_len, l))"
   ]
  },
  {
   "cell_type": "markdown",
   "metadata": {},
   "source": [
    "__2.2 Write a Python function which takes a character (i.e. a string of length 1) and returns True if it is a vowel, False otherwise.__"
   ]
  },
  {
   "cell_type": "code",
   "execution_count": 8,
   "metadata": {},
   "outputs": [],
   "source": [
    "def isVowel(char):\n",
    "    if char == 'a' or char == 'e' or char == 'i' or char == 'o' or char == 'u':\n",
    "        return True\n",
    "    else:\n",
    "        return False\n",
    "    \n",
    "    "
   ]
  },
  {
   "cell_type": "code",
   "execution_count": 9,
   "metadata": {},
   "outputs": [
    {
     "name": "stdout",
     "output_type": "stream",
     "text": [
      "Enter a character: ki\n",
      "Enter a character: k\n",
      "Entered character is not a Vowel\n"
     ]
    }
   ],
   "source": [
    "while True:\n",
    "    char = input(\"Enter a character: \")\n",
    "    if len(char)>1:\n",
    "        continue\n",
    "    else:\n",
    "        if isVowel(char.lower()):\n",
    "            print(\"Entered character is Vowel\")\n",
    "        else:\n",
    "            print(\"Entered character is not a Vowel\")\n",
    "        break"
   ]
  },
  {
   "cell_type": "code",
   "execution_count": null,
   "metadata": {},
   "outputs": [],
   "source": []
  }
 ],
 "metadata": {
  "kernelspec": {
   "display_name": "Python 3",
   "language": "python",
   "name": "python3"
  },
  "language_info": {
   "codemirror_mode": {
    "name": "ipython",
    "version": 3
   },
   "file_extension": ".py",
   "mimetype": "text/x-python",
   "name": "python",
   "nbconvert_exporter": "python",
   "pygments_lexer": "ipython3",
   "version": "3.7.1"
  }
 },
 "nbformat": 4,
 "nbformat_minor": 2
}
